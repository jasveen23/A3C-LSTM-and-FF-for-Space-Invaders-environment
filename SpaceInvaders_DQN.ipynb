{
 "cells": [
  {
   "cell_type": "markdown",
   "metadata": {
    "colab_type": "text",
    "id": "2rHudLARV4hz"
   },
   "source": [
    "# INM707 Coursework - Advanced Task\n",
    "# Space Invaders with Deep Q-Network (DQN)\n",
    "### By: Elisabeta Monica Furdui: 190045971 and Jasveen Kaur: 190020638 "
   ]
  },
  {
   "cell_type": "markdown",
   "metadata": {
    "colab_type": "text",
    "id": "3cirQh6CV4h4"
   },
   "source": [
    "### Importing the required modules \n",
    "For this implementation, we have used OpenAI gym and Pytorch library. "
   ]
  },
  {
   "cell_type": "code",
   "execution_count": null,
   "metadata": {
    "colab": {},
    "colab_type": "code",
    "id": "8lwlVX6gV4h8"
   },
   "outputs": [],
   "source": [
    "###############\n",
    "#Code referenced and edited from: https://notebooks.azure.com/paulamarinhozago1/project/\n",
    "###############\n",
    "\n",
    "import numpy as np\n",
    "import torch\n",
    "import torch.nn as nn\n",
    "import torch.autograd as autograd\n",
    "import time\n",
    "import torch.nn.functional as F\n",
    "\n",
    "import gym\n",
    "from gym import spaces, wrappers\n",
    "import cv2\n",
    "import random, math\n",
    "from collections import deque\n",
    "from IPython import display\n",
    "import matplotlib.pyplot as plt\n",
    "import pickle\n",
    "import logging\n",
    "%matplotlib inline\n",
    "\n",
    "device = torch.device(\"cuda\" if torch.cuda.is_available() else \"cpu\")"
   ]
  },
  {
   "cell_type": "markdown",
   "metadata": {
    "colab_type": "text",
    "id": "W0Lop4zsr0ML"
   },
   "source": [
    "### OpenAI Wrappers library\n",
    "To preprocess the input image, stack the frames and reset the environment."
   ]
  },
  {
   "cell_type": "code",
   "execution_count": null,
   "metadata": {
    "colab": {},
    "colab_type": "code",
    "id": "4RFzEuD1rmEI"
   },
   "outputs": [],
   "source": [
    "#Wrappers Library taken and edited from https://github.com/openai/baselines/blob/master/baselines/common/atari_wrappers.py\n",
    "class NoopResetEnv(gym.Wrapper):\n",
    "    def __init__(self, env, noop_max=30):\n",
    "        \"\"\"Sample initial states by taking random number of no-ops on reset.\n",
    "        No-op is assumed to be action 0.\n",
    "        \"\"\"\n",
    "        gym.Wrapper.__init__(self, env)\n",
    "        self.noop_max = noop_max\n",
    "        self.override_num_noops = None\n",
    "        self.noop_action = 0\n",
    "        assert env.unwrapped.get_action_meanings()[0] == 'NOOP'\n",
    "\n",
    "    def reset(self, **kwargs):\n",
    "        \"\"\" Do no-op action for a number of steps in [1, noop_max].\"\"\"\n",
    "        self.env.reset(**kwargs)\n",
    "        if self.override_num_noops is not None:\n",
    "            noops = self.override_num_noops\n",
    "        else:\n",
    "            noops = self.unwrapped.np_random.randint(1, self.noop_max + 1) #pylint: disable=E1101\n",
    "        assert noops > 0\n",
    "        obs = None\n",
    "        for _ in range(noops):\n",
    "            obs, _, done, _ = self.env.step(self.noop_action)\n",
    "            if done:\n",
    "                obs = self.env.reset(**kwargs)\n",
    "        return obs\n",
    "\n",
    "class FireResetEnv(gym.Wrapper):\n",
    "    def __init__(self, env):\n",
    "        \"\"\"Take action on reset for environments that are fixed until firing.\"\"\"\n",
    "        gym.Wrapper.__init__(self, env)\n",
    "        assert env.unwrapped.get_action_meanings()[1] == 'FIRE'\n",
    "        assert len(env.unwrapped.get_action_meanings()) >= 3\n",
    "\n",
    "    def reset(self, **kwargs):\n",
    "        self.env.reset(**kwargs)\n",
    "        obs, _, done, _ = self.env.step(1)\n",
    "        if done:\n",
    "            self.env.reset(**kwargs)\n",
    "        obs, _, done, _ = self.env.step(2)\n",
    "        if done:\n",
    "            self.env.reset(**kwargs)\n",
    "        return obs\n",
    "\n",
    "class EpisodicLifeEnv(gym.Wrapper):\n",
    "    def __init__(self, env):\n",
    "        \"\"\"Make end-of-life == end-of-episode, but only reset on true game over.\n",
    "        Done by DeepMind for the DQN and co. since it helps value estimation.\n",
    "        \"\"\"\n",
    "        gym.Wrapper.__init__(self, env)\n",
    "        self.lives = 0\n",
    "        self.was_real_done  = True\n",
    "\n",
    "    def step(self, action):\n",
    "        obs, reward, done, info = self.env.step(action)\n",
    "        self.was_real_done = done\n",
    "        # check current lives, make loss of life terminal, then update lives to handle bonus lives\n",
    "        lives = self.env.unwrapped.ale.lives()\n",
    "        if lives < self.lives and lives > 0:\n",
    "            # for Qbert somtimes we stay in lives == 0 condtion for a few frames\n",
    "            # so its important to keep lives > 0, so that we only reset once the environment advertises done.\n",
    "            done = True\n",
    "        self.lives = lives\n",
    "        return obs, reward, done, info\n",
    "\n",
    "    def reset(self, **kwargs):\n",
    "        \"\"\"Reset only when lives are exhausted.\n",
    "        This way all states are still reachable even though lives are episodic, and the learner need not know about any of this behind-the-scenes.\n",
    "        \"\"\"\n",
    "        if self.was_real_done:\n",
    "            obs = self.env.reset(**kwargs)\n",
    "        else:\n",
    "            # no-op step to advance from terminal/lost life state\n",
    "            obs, _, _, _ = self.env.step(0)\n",
    "        self.lives = self.env.unwrapped.ale.lives()\n",
    "        return obs\n",
    "\n",
    "class MaxAndSkipEnv(gym.Wrapper):\n",
    "    def __init__(self, env, skip=4):\n",
    "        \"\"\"Return only every `skip`-th frame\"\"\"\n",
    "        gym.Wrapper.__init__(self, env)\n",
    "        # most recent raw observations (for max pooling across time steps)\n",
    "        self._obs_buffer = np.zeros((2,)+env.observation_space.shape, dtype='uint8')\n",
    "        self._skip = skip\n",
    "\n",
    "    def step(self, action):\n",
    "        \"\"\"Repeat action, sum reward, and max over last observations.\"\"\"\n",
    "        total_reward = 0.0\n",
    "        done = None\n",
    "        for i in range(self._skip):\n",
    "            obs, reward, done, info = self.env.step(action)\n",
    "            if i == self._skip - 2: self._obs_buffer[0] = obs\n",
    "            if i == self._skip - 1: self._obs_buffer[1] = obs\n",
    "            total_reward += reward\n",
    "            if done:\n",
    "                break\n",
    "        # Note that the observation on the done=True frame doesn't matter\n",
    "        max_frame = self._obs_buffer.max(axis=0)\n",
    "\n",
    "        return max_frame, total_reward, done, info\n",
    "\n",
    "class WarpFrame(gym.ObservationWrapper):\n",
    "    def __init__(self, env):\n",
    "        \"\"\"Warp frames to 84x84.\"\"\"\n",
    "        gym.ObservationWrapper.__init__(self, env)\n",
    "        self.width = 84\n",
    "        self.height = 84\n",
    "        self.observation_space = spaces.Box(low=0, high=255, shape=(self.height, self.width, 1), dtype=np.uint8)\n",
    "\n",
    "    def observation(self, frame):\n",
    "        frame = cv2.cvtColor(frame, cv2.COLOR_RGB2GRAY)\n",
    "        frame = cv2.resize(frame, (self.width, self.height), interpolation=cv2.INTER_AREA)\n",
    "        return frame[:, :, None]\n",
    "\n",
    "class FrameStack(gym.Wrapper):\n",
    "    def __init__(self, env, k):\n",
    "        \"\"\"Stack k last frames.\n",
    "        Returns lazy array, which is much more memory efficient.\n",
    "        baselines.common.atari_wrappers.LazyFrames\n",
    "        \"\"\"\n",
    "        gym.Wrapper.__init__(self, env)\n",
    "        self.k = k\n",
    "        self.frames = deque([], maxlen=k)\n",
    "        shp = env.observation_space.shape\n",
    "        self.observation_space = spaces.Box(low=0, high=255, shape=(shp[0], shp[1], shp[2] * k), dtype=env.observation_space.dtype)\n",
    "\n",
    "    def reset(self):\n",
    "        ob = self.env.reset()\n",
    "        for _ in range(self.k):\n",
    "            self.frames.append(ob)\n",
    "        return self._get_ob()\n",
    "\n",
    "    def step(self, action):\n",
    "        ob, reward, done, info = self.env.step(action)\n",
    "        self.frames.append(ob)\n",
    "        return self._get_ob(), reward, done, info\n",
    "\n",
    "    def _get_ob(self):\n",
    "        assert len(self.frames) == self.k\n",
    "        return LazyFrames(list(self.frames))\n",
    "\n",
    "class LazyFrames(object):\n",
    "    def __init__(self, frames):\n",
    "        \"\"\"This object ensures that common frames between the observations are only stored once.\n",
    "        It exists purely to optimize memory usage which can be huge for DQN's 1M frames replay\n",
    "        buffers.\n",
    "        This object should only be converted to numpy array before being passed to the model.\n",
    "        You'd not believe how complex the previous solution was.\"\"\"\n",
    "        self._frames = frames\n",
    "\n",
    "    def __array__(self, dtype=None):\n",
    "        out = np.concatenate(self._frames, axis=2)\n",
    "        if dtype is not None:\n",
    "            out = out.astype(dtype)\n",
    "        return out\n",
    "\n",
    "class ImageToPyTorch(gym.ObservationWrapper):\n",
    "    \"\"\"\n",
    "    Change image shape to CWH\n",
    "    \"\"\"\n",
    "    def __init__(self, env):\n",
    "        super(ImageToPyTorch, self).__init__(env)\n",
    "        old_shape = self.observation_space.shape\n",
    "        self.observation_space = gym.spaces.Box(low=0.0, high=1.0, shape=(old_shape[-1], old_shape[0], old_shape[1]), dtype=env.observation_space.dtype)\n",
    "\n",
    "    def observation(self, observation):\n",
    "        return np.swapaxes(observation, 2, 0)\n",
    "\n",
    "def make_atari(env_id):\n",
    "    env = gym.make(env_id)\n",
    "    assert 'NoFrameskip' in env.spec.id\n",
    "    env = NoopResetEnv(env, noop_max=30)\n",
    "    env = MaxAndSkipEnv(env, skip=4)\n",
    "    return env\n",
    "\n",
    "def wrap_deepmind(env, episode_life=True, clip_rewards=True, frame_stack=False, scale=False, pytorch_img=False):\n",
    "    \"\"\"Configure environment for DeepMind-style Atari.\n",
    "    Rescale the image to 84 x 84, single gray scale channel, and stack 4 consecutive frames as one observation.\n",
    "    \"\"\"\n",
    "    if episode_life:\n",
    "        env = EpisodicLifeEnv(env)\n",
    "    if 'FIRE' in env.unwrapped.get_action_meanings():\n",
    "        env = FireResetEnv(env)\n",
    "    env = WarpFrame(env)\n",
    "    #if clip_rewards:\n",
    "     #   env = ClipRewardEnv(env)\n",
    "    if frame_stack:\n",
    "        env = FrameStack(env, 4)\n",
    "    if pytorch_img:\n",
    "        env = ImageToPyTorch(env)\n",
    "    return env"
   ]
  },
  {
   "cell_type": "markdown",
   "metadata": {
    "colab_type": "text",
    "id": "6G8GT8GTv6KC"
   },
   "source": [
    "### Initializing the game environment to space invaders.\n",
    "Using Monitor to get the video output and Deepmind's wrappers function for preprocessing. \n",
    "Applying preprocessing steps from the above wrapper classes and displaying observation and action space."
   ]
  },
  {
   "cell_type": "code",
   "execution_count": null,
   "metadata": {
    "colab": {
     "base_uri": "https://localhost:8080/",
     "height": 84
    },
    "colab_type": "code",
    "id": "zlq2zJLLuj-F",
    "outputId": "de06daac-f61b-46ca-f9a8-4dffc9d19cec"
   },
   "outputs": [],
   "source": [
    "env = make_atari('SpaceInvadersNoFrameskip-v4')\n",
    "env = wrappers.Monitor(env, \"./tmp/SpaceInvadersNoFrameskip-v4\", force = True)\n",
    "print(\"Original Observation space:\", env.observation_space)\n",
    "env = wrap_deepmind(env, frame_stack=True, pytorch_img=True)\n",
    "print(\"Observation space after preprocessing:\", env.observation_space)\n",
    "print(\"\\nNumber of actions available to the agent:\", env.action_space.n)\n",
    "action_space = [a for a in range(env.action_space.n)]\n",
    "print(\"Actions available to the agent:\", env.unwrapped.get_action_meanings())"
   ]
  },
  {
   "cell_type": "markdown",
   "metadata": {
    "colab_type": "text",
    "id": "AfnsekgJ9CtZ"
   },
   "source": [
    "### Replay Buffer for experience replay: Used to store experiences for training the agent\n",
    "\n",
    "It stores the experiences of the agent at each time-step in the form of a tuple, and then randomly selects the given experiences. Randomization is important to remove correlations in the consecutive samples of observation space and smoothly reflect changes in data sampling, making the training data diverse. It makes the learning process more efficient.  "
   ]
  },
  {
   "cell_type": "code",
   "execution_count": null,
   "metadata": {
    "colab": {},
    "colab_type": "code",
    "id": "vUkgPfvk9A1u"
   },
   "outputs": [],
   "source": [
    "class ReplayBuffer(object):\n",
    "    def __init__(self, capacity):\n",
    "        self.buffer = deque(maxlen=capacity)\n",
    "    \n",
    "    def push(self, state, action, reward, next_state, done):\n",
    "        self.buffer.append([state, action, reward, next_state, done])\n",
    "    \n",
    "    def sample(self, batch_size):\n",
    "        state, action, reward, next_state, done = zip(*random.sample(self.buffer, batch_size))\n",
    "        return state, action, reward, next_state, done\n",
    "    \n",
    "    def __len__(self):\n",
    "        return len(self.buffer)"
   ]
  },
  {
   "cell_type": "markdown",
   "metadata": {},
   "source": [
    "### Epsilon Greedy Strategy: Used to maintain a balance between exploration and exploitation\n",
    "Exploration: agent explores the environment by taking a random action from the given state.\n",
    "Exploitation: agent exploits the environment by taking the best action from the previously learned ones."
   ]
  },
  {
   "cell_type": "code",
   "execution_count": null,
   "metadata": {},
   "outputs": [],
   "source": [
    "def get_epsilon(initial_epsilon, final_epsilon, epsilon_decay, frame_idx):\n",
    "    return final_epsilon + (initial_epsilon - final_epsilon) * math.exp(-1.0 * frame_idx / epsilon_decay)"
   ]
  },
  {
   "cell_type": "markdown",
   "metadata": {},
   "source": [
    "### Defining the Loss functions used\n",
    "Huber loss: Smooth_l1_loss in Pytorch with beta, it is less sensitive to outliers in data as compared to MSE.\n",
    "MSE: Mean sqaured error loss\n",
    "MAE: Mean Absolute Error loss"
   ]
  },
  {
   "cell_type": "code",
   "execution_count": null,
   "metadata": {},
   "outputs": [],
   "source": [
    "def Huber_loss(input, target, beta=1, size_average=True):\n",
    "    abs_error = torch.abs(input - target)\n",
    "    cond = x < beta\n",
    "    loss = torch.where(cond, 0.5 * abs_error ** 2 / beta, abs_error - 0.5 * beta)\n",
    "    if size_average:\n",
    "        return loss.mean()\n",
    "    return loss.sum()\n",
    "\n",
    "def mse_loss(input, target):\n",
    "    squared_error = (input - target) ** 2\n",
    "    sum_squared_error = torch.sum(squared_error)\n",
    "    loss = sum_squared_error.mean()\n",
    "    return loss\n",
    "\n",
    "def mae_loss(input, target):\n",
    "    abs_error = torch.abs(input - target)\n",
    "    sum_abs_error = torch.sum(abs_error)\n",
    "    loss = sum_abs_error / target.size\n",
    "    return loss"
   ]
  },
  {
   "cell_type": "markdown",
   "metadata": {
    "colab_type": "text",
    "id": "Ri2hBawiw0bg"
   },
   "source": [
    "### Deep Neural Network architecture\n",
    "The convolutional layer is used to directly extract features from the images of the screen"
   ]
  },
  {
   "cell_type": "code",
   "execution_count": null,
   "metadata": {
    "colab": {},
    "colab_type": "code",
    "id": "hIqK11x19ryZ"
   },
   "outputs": [],
   "source": [
    "class Deep_Q_Network(nn.Module):\n",
    "    def __init__(self):\n",
    "        super(Deep_Q_Network, self).__init__()\n",
    "        \n",
    "        self.conv = nn.Sequential(nn.Conv2d(4, 32, kernel_size=8, stride=4), nn.ReLU(),\n",
    "                                  nn.Conv2d(32, 64, kernel_size=4, stride=2), nn.ReLU(),\n",
    "                                  nn.Conv2d(64, 64, kernel_size=3, stride=1), nn.ReLU())\n",
    "        self.fc = nn.Sequential(nn.Linear(7 * 7 * 64, 512), nn.ReLU(), nn.Linear(512, n_actions))\n",
    "\n",
    "    def forward(self, x):\n",
    "        x = self.conv(x)\n",
    "        x = x.view(x.shape[0], x.shape[1] * x.shape[2] * x.shape[3])\n",
    "        x = self.fc(x)\n",
    "        return x #Q values for each action"
   ]
  },
  {
   "attachments": {},
   "cell_type": "markdown",
   "metadata": {
    "colab_type": "text",
    "id": "kncAEj0-w8FI"
   },
   "source": [
    "#### Policy and Target network \n",
    "Target Network: It prevents the action-values from oscillating and the algorithm from diverging. Hence making the training and learning process more stable."
   ]
  },
  {
   "cell_type": "code",
   "execution_count": null,
   "metadata": {
    "colab": {
     "base_uri": "https://localhost:8080/",
     "height": 34
    },
    "colab_type": "code",
    "id": "nKfZtLxK_bTg",
    "outputId": "2bd98180-1542-44b1-c493-78319f541b8c"
   },
   "outputs": [],
   "source": [
    "n_actions = len(action_space)\n",
    "lr = 0.0001\n",
    "alpha = 0.95\n",
    "\n",
    "policy_network = Deep_Q_Network().to(device)\n",
    "target_network = Deep_Q_Network().to(device)\n",
    "target_network.load_state_dict(policy_network.state_dict())\n",
    "\n",
    "#optimizer = torch.optim.RMSprop(policy_network.parameters(), lr=lr, alpha=alpha)\n",
    "optimizer = torch.optim.Adam(policy_network.parameters(), lr=lr)\n",
    "\n",
    "def count_parameters(model):\n",
    "    return sum(p.numel() for p in model.parameters() if p.requires_grad)\n",
    "print(policy_network)\n",
    "print(\"Number of learnable parameters: %d\" % count_parameters(policy_network))"
   ]
  },
  {
   "cell_type": "markdown",
   "metadata": {
    "colab_type": "text",
    "id": "4Enk2ed2xpSK"
   },
   "source": [
    "#### Logger to save the logs for rewards"
   ]
  },
  {
   "cell_type": "code",
   "execution_count": null,
   "metadata": {
    "colab": {},
    "colab_type": "code",
    "id": "v0H5l3-0xnzs"
   },
   "outputs": [],
   "source": [
    "logger = logging.getLogger('dqn_spaceinvaders')\n",
    "logger.setLevel(logging.INFO)\n",
    "logger_handler = logging.FileHandler('./dqn_spaceinvaders_log.log')\n",
    "logger.addHandler(logger_handler)"
   ]
  },
  {
   "cell_type": "markdown",
   "metadata": {},
   "source": [
    "#### Defining the parameters to train the model"
   ]
  },
  {
   "cell_type": "code",
   "execution_count": null,
   "metadata": {},
   "outputs": [],
   "source": [
    "max_episodes = 20000\n",
    "batch_size = 32\n",
    "target_update = 5000\n",
    "gamma = 0.99\n",
    "buffer_size = 500000\n",
    "buffer_initialize = 50000\n",
    "skip_frame = 3\n",
    "initial_epsilon = 1.0\n",
    "final_epsilon = 0.1\n",
    "epsilon_decay = 250000"
   ]
  },
  {
   "cell_type": "markdown",
   "metadata": {},
   "source": [
    "#### Replay Buffer Initialization"
   ]
  },
  {
   "cell_type": "code",
   "execution_count": null,
   "metadata": {},
   "outputs": [],
   "source": [
    "replay_buffer = ReplayBuffer(buffer_size)\n",
    "\n",
    "while len(replay_buffer) < buffer_initialize:\n",
    "    \n",
    "    observation = env.reset()\n",
    "    done = False\n",
    "    \n",
    "    while not done:\n",
    "        with torch.no_grad():\n",
    "            obs_n = torch.from_numpy(observation).float().to(device)\n",
    "            obs_n = obs_n.view(1, obs_n.shape[0], obs_n.shape[1], obs_n.shape[2])\n",
    "            action = random.sample(range(len(action_space)), 1)[0]\n",
    "        \n",
    "        next_observation, reward, done, info = env.step(action_space[action])\n",
    "            \n",
    "        replay_buffer.push(observation, action, reward, next_observation, done)\n",
    "        observation = next_observation\n",
    "        \n",
    "print('Replay buffer initialized')"
   ]
  },
  {
   "cell_type": "markdown",
   "metadata": {
    "colab_type": "text",
    "id": "114l0j98x6UP"
   },
   "source": [
    "#### Training the Agent by updating the states and actions and calculating the rewards and loss values"
   ]
  },
  {
   "cell_type": "code",
   "execution_count": null,
   "metadata": {
    "colab": {},
    "colab_type": "code",
    "id": "gzT-EMn3x5HY"
   },
   "outputs": [],
   "source": [
    "episode_score = []\n",
    "mean_episode_score = []\n",
    "mean_episode_loss = []\n",
    "loss_value = []\n",
    "num_frames = 0\n",
    "episode = 0\n",
    "score = 0\n",
    "start_time = time.time()\n",
    "\n",
    "while episode < max_episodes:\n",
    "    \n",
    "    observation = env.reset()\n",
    "    done = False\n",
    "    \n",
    "    while not done:\n",
    "        \n",
    "        with torch.no_grad():\n",
    "\n",
    "            obs_n = torch.from_numpy(observation).float().to(device) / 255\n",
    "            obs_n = obs_n.view(1, obs_n.shape[0], obs_n.shape[1], obs_n.shape[2])\n",
    "            epsilon = get_epsilon(initial_epsilon, final_epsilon, epsilon_decay, num_frames)\n",
    "            \n",
    "            if random.random() > epsilon:\n",
    "                q_value = policy_network(obs_n)\n",
    "                action = q_value.argmax(1).data.cpu().numpy().astype(int)[0]\n",
    "            else:\n",
    "                action = random.sample(range(len(action_space)), 1)[0]\n",
    "        \n",
    "        next_observation, reward, done, info = env.step(action_space[action])\n",
    "        \n",
    "        num_frames += 1\n",
    "        score += reward\n",
    "        \n",
    "        #adding experiences to the replay buffer\n",
    "        replay_buffer.push(observation, action, reward, next_observation, done)\n",
    "        observation = next_observation\n",
    "        \n",
    "        #updating the policy network\n",
    "        if len(replay_buffer) > batch_size and num_frames % skip_frame == 0:\n",
    "            \n",
    "            observations, actions, rewards, next_observations, dones = replay_buffer.sample(batch_size)          \n",
    "\n",
    "            observations = torch.from_numpy(np.array(observations) / 255).float().to(device)\n",
    "            next_observations = torch.from_numpy(np.array(next_observations) / 255).float().to(device)\n",
    "            actions = torch.from_numpy(np.array(actions).astype(int)).float().to(device)\n",
    "            actions = actions.view(actions.shape[0], 1)\n",
    "            rewards = torch.from_numpy(np.array(rewards)).float().to(device)\n",
    "            rewards = rewards.view(rewards.shape[0], 1)\n",
    "            dones = torch.from_numpy(np.array(dones).astype(int)).float().to(device)\n",
    "            dones = dones.view(dones.shape[0], 1)\n",
    "            \n",
    "            q_values = policy_network(observations)\n",
    "            next_q_values = target_model(next_observations)\n",
    "\n",
    "            q_value = q_values.gather(1, actions.long())\n",
    "            next_q_value = next_q_values.max(1)[0].unsqueeze(1)\n",
    "            expected_q_value = rewards + gamma * next_q_value * (1 - dones)\n",
    "            \n",
    "            #calculating the loss\n",
    "            \n",
    "            loss = huber_loss(q_value, expected_q_value)\n",
    "            #loss = F.SmoothL1Loss(q_value, expected_q_value)\n",
    "            #loss = F.mae_loss(q_value, expected_q_value)\n",
    "            #loss = F.mse_loss(q_value, expected_q_value)\n",
    "            \n",
    "            optimizer.zero_grad()\n",
    "            loss.backward()\n",
    "            \n",
    "            optimizer.step()\n",
    "            \n",
    "            loss_value.append(loss)\n",
    "            \n",
    "        # Updating the target network\n",
    "        if num_frames % target_update == 0:\n",
    "            target_network.load_state_dict(policy_network.state_dict())\n",
    "    \n",
    "    \n",
    "    episode += 1\n",
    "    episode_score.append(score)\n",
    "   \n",
    "    if info['ale.lives'] == 0:\n",
    "        score = 0\n",
    "    \n",
    "    if episode % 100 == 0:\n",
    "        mean_score = np.mean(episode_score)\n",
    "        mean_loss = np.mean(loss_value, dtype = float)\n",
    "        \n",
    "        mean_episode_score.append(mean_score)\n",
    "        mean_episode_loss.append(mean_loss)\n",
    "        \n",
    "        episode_score = []\n",
    "        loss_value = []\n",
    "        \n",
    "        data = \"Time: {} |  Average Episode Reward (last 100 episodes): {} |  Average Loss per batch (last 100 episodes): {} |  Episode: {}\".format(time.strftime(\"%Hh %Mm %Ss\", time.gmtime(time.time() - start_time)), mean_score, '%.4f'%mean_loss, episode)\n",
    "        print(data)\n",
    "        \n",
    "        logger.info(' | Episode: ' + str(episode) + ' | Average Episode Reward (last 100 episodes): ' + str(int(mean_score)) + '| Loss:' + str(float('%.4f'%mean_loss)) +'| Time: ' + time.strftime(\"%Hh %Mm %Ss\", time.gmtime(time.time() - start_time)) + '| Frame:' + str(num_frames))  \n",
    "        \n",
    "        #saving the loss and rewards as pickle file\n",
    "        pickle.dump(mean_episode_loss, open('./mean_episode_loss.pickle','wb'))\n",
    "        pickle.dump(mean_episode_score, open('./mean_episode_scores.pickle', 'wb'))\n",
    "        \n",
    "    if episode % 1000 == 0:\n",
    "        torch.save(policy_network.state_dict(), './trained_model.pt')"
   ]
  },
  {
   "cell_type": "code",
   "execution_count": null,
   "metadata": {},
   "outputs": [],
   "source": []
  }
 ],
 "metadata": {
  "colab": {
   "collapsed_sections": [],
   "name": "dqn_spaceinvadres_pytorch.ipynb",
   "provenance": []
  },
  "kernelspec": {
   "display_name": "Python 3",
   "language": "python",
   "name": "python3"
  },
  "language_info": {
   "codemirror_mode": {
    "name": "ipython",
    "version": 3
   },
   "file_extension": ".py",
   "mimetype": "text/x-python",
   "name": "python",
   "nbconvert_exporter": "python",
   "pygments_lexer": "ipython3",
   "version": "3.6.9"
  }
 },
 "nbformat": 4,
 "nbformat_minor": 1
}
